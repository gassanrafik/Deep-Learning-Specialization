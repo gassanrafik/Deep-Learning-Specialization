{
  "nbformat": 4,
  "nbformat_minor": 0,
  "metadata": {
    "colab": {
      "name": "Tensorflow_Intro.ipynb",
      "provenance": [],
      "authorship_tag": "ABX9TyMA6ul/zkyXFDvvzMUHqfmY",
      "include_colab_link": true
    },
    "kernelspec": {
      "name": "python3",
      "display_name": "Python 3"
    }
  },
  "cells": [
    {
      "cell_type": "markdown",
      "metadata": {
        "id": "view-in-github",
        "colab_type": "text"
      },
      "source": [
        "<a href=\"https://colab.research.google.com/github/gassanrafik/Deep-Learning-Specialization/blob/master/Tensorflow_Intro.ipynb\" target=\"_parent\"><img src=\"https://colab.research.google.com/assets/colab-badge.svg\" alt=\"Open In Colab\"/></a>"
      ]
    },
    {
      "cell_type": "code",
      "metadata": {
        "id": "FWRaXMA5I3A5",
        "colab_type": "code",
        "colab": {
          "base_uri": "https://localhost:8080/",
          "height": 122
        },
        "outputId": "cc6dd3ae-76cd-4fb0-886c-d9b5bc274aaf"
      },
      "source": [
        "import numpy as np\n",
        "%tensorflow_version 1.x #imports tensorflow 1 as that's what's used in the course\n",
        "import tensorflow as tf"
      ],
      "execution_count": 1,
      "outputs": [
        {
          "output_type": "stream",
          "text": [
            "`%tensorflow_version` only switches the major version: 1.x or 2.x.\n",
            "You set: `1.x #imports tensorflow 1 as that's what's used in the course`. This will be interpreted as: `1.x`.\n",
            "\n",
            "\n",
            "TensorFlow 1.x selected.\n"
          ],
          "name": "stdout"
        }
      ]
    },
    {
      "cell_type": "code",
      "metadata": {
        "id": "Pz9QpaE5JCA0",
        "colab_type": "code",
        "colab": {
          "base_uri": "https://localhost:8080/",
          "height": 34
        },
        "outputId": "0995457a-9daf-4bb6-8e4e-630c99eb5e5a"
      },
      "source": [
        "coef = np.array([[1.], [-20.], [100.]])\n",
        "w = tf.Variable(0, dtype=tf.float32)\n",
        "x = tf.placeholder(tf.float32, [3, 1]) #value in tensorflow to which we assign a number later\n",
        "#cost = tf.add(tf.add(w**2, tf.multiply(-10., w)), 25) # w^2-10w+25\n",
        "#cost = w**2 -10 *w + 25 function is also overloaded in tensorflow so this format also works\n",
        "cost = x[0][0]*w**2 + x[1][0]*w + x[2][0] # constructs a computational graph\n",
        "train = tf.train.GradientDescentOptimizer(0.01).minimize(cost) #0.01 is the learning rate, learning algorithm\n",
        "\n",
        "init = tf.global_variables_initializer()\n",
        "\n",
        "#idiomatic lines of code in tensorflow\n",
        "session = tf.Session()\n",
        "session.run(init)\n",
        "print(session.run(w)) # for tensorflow to evaluate the global variables\n",
        "# 0.0 because we haven't ran anything yet"
      ],
      "execution_count": 25,
      "outputs": [
        {
          "output_type": "stream",
          "text": [
            "0.0\n"
          ],
          "name": "stdout"
        }
      ]
    },
    {
      "cell_type": "code",
      "metadata": {
        "id": "ItRsZCSOJ_BT",
        "colab_type": "code",
        "colab": {
          "base_uri": "https://localhost:8080/",
          "height": 34
        },
        "outputId": "bc09f7d1-3fbc-4219-f18e-cffb405c7050"
      },
      "source": [
        "session.run(train, feed_dict={x:coef}) # replacing the placeholder for coef and doing GD\n",
        "print(session.run(w)) # one step of gradient descent\n"
      ],
      "execution_count": 26,
      "outputs": [
        {
          "output_type": "stream",
          "text": [
            "0.19999999\n"
          ],
          "name": "stdout"
        }
      ]
    },
    {
      "cell_type": "code",
      "metadata": {
        "id": "3G44STyTLj4L",
        "colab_type": "code",
        "colab": {
          "base_uri": "https://localhost:8080/",
          "height": 34
        },
        "outputId": "abf1fa9a-55a6-43bf-91d6-7bf62cfb62dd"
      },
      "source": [
        "for i in range(1000):\n",
        "  session.run(train, feed_dict={x:coef})\n",
        "print(session.run(w))\n",
        "#1000 iteration of gradient descent"
      ],
      "execution_count": 27,
      "outputs": [
        {
          "output_type": "stream",
          "text": [
            "9.999976\n"
          ],
          "name": "stdout"
        }
      ]
    },
    {
      "cell_type": "code",
      "metadata": {
        "id": "OZUUz1GfLsWB",
        "colab_type": "code",
        "colab": {}
      },
      "source": [
        "#by using the forward functions in tensorflow, we can automatically generate the backwards functions used in backpropagation"
      ],
      "execution_count": null,
      "outputs": []
    }
  ]
}